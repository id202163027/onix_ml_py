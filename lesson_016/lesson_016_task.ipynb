{
 "cells": [
  {
   "cell_type": "code",
   "execution_count": 1,
   "id": "b7b04a26",
   "metadata": {},
   "outputs": [],
   "source": [
    "import numpy as np\n",
    "from sklearn.neural_network import MLPClassifier"
   ]
  },
  {
   "cell_type": "code",
   "execution_count": 2,
   "id": "68aea0b3",
   "metadata": {},
   "outputs": [],
   "source": [
    "# given true table A, B, C, D=F(A,B,C)\n",
    "# true_table = np.loadtxt('base_dataset.csv', delimiter=',')\n",
    "true_table =  np.array([[0, 0, 0, 1],\n",
    "                          [0, 0, 1, 0],\n",
    "                          [0, 1, 0, 1],\n",
    "                          [0, 1, 1, 0],\n",
    "                          [1, 0, 0, 1],\n",
    "                          [1, 0, 1, 0],\n",
    "                          [1, 1, 0, 1],\n",
    "                          [1, 1, 1, 0]], dtype=np.float64)"
   ]
  },
  {
   "cell_type": "code",
   "execution_count": 3,
   "id": "fcc6bcdc",
   "metadata": {},
   "outputs": [],
   "source": [
    "# construct additional dataset by repeating true_table 9 times\n",
    "add_set = np.tile(true_table, (9, 1))"
   ]
  },
  {
   "cell_type": "code",
   "execution_count": 4,
   "id": "ceceeb03",
   "metadata": {},
   "outputs": [],
   "source": [
    "# replace A,B,C zeros with random values in interval 0,0.4\n",
    "np.place(add_set[:,:-1], add_set[:,:-1]==0, np.random.uniform(0,0.4,(add_set[:,:-1]==0).sum()))"
   ]
  },
  {
   "cell_type": "code",
   "execution_count": 5,
   "id": "4ac34cfe",
   "metadata": {},
   "outputs": [],
   "source": [
    "# replace A,B,C ones with random values in interval 0.6,1.2\n",
    "np.place(add_set[:,:-1], add_set[:,:-1]==1, np.random.uniform(0.6,1.2,(add_set[:,:-1]==1).sum()))"
   ]
  },
  {
   "cell_type": "code",
   "execution_count": 6,
   "id": "24040269",
   "metadata": {},
   "outputs": [],
   "source": [
    "# create train dataset concatenating initial true_table and generated add_set\n",
    "dataset = np.concatenate((true_table, add_set), axis=0)"
   ]
  },
  {
   "cell_type": "code",
   "execution_count": 7,
   "id": "0fd7f32f",
   "metadata": {},
   "outputs": [],
   "source": [
    "## ver.2\n",
    "# dataset = np.tile(true_table, (10, 1))\n",
    "\n",
    "## exclude true table and D\n",
    "# abc = dataset[true_table.shape[0]:,:-1]\n",
    "\n",
    "## replace zeros with values in 0,0.4 interval\n",
    "# abc[abc == 0] = np.random.uniform(0.0, 0.4, (abc == 0).sum())\n",
    "\n",
    "## replace ones with values in 0.6,1.2 interval\n",
    "# abc[abc == 1] = np.random.uniform(0.6, 1.2, (abc == 1).sum())\n",
    "\n",
    "## insert transformed a,b,c in generated data\n",
    "# dataset[true_table.shape[0]:,:-1] = abc"
   ]
  },
  {
   "cell_type": "code",
   "execution_count": 8,
   "id": "cb3819ba",
   "metadata": {},
   "outputs": [
    {
     "name": "stdout",
     "output_type": "stream",
     "text": [
      "size:\n",
      " (80, 4)\n",
      "dataset:\n",
      " [[0.         0.         0.         1.        ]\n",
      " [0.         0.         1.         0.        ]\n",
      " [0.         1.         0.         1.        ]\n",
      " [0.         1.         1.         0.        ]\n",
      " [1.         0.         0.         1.        ]\n",
      " [1.         0.         1.         0.        ]\n",
      " [1.         1.         0.         1.        ]\n",
      " [1.         1.         1.         0.        ]\n",
      " [0.32717918 0.24362669 0.10095127 1.        ]\n",
      " [0.00873603 0.03383183 0.6203537  0.        ]\n",
      " [0.13673337 0.75152695 0.03830862 1.        ]\n",
      " [0.1226615  0.71705221 0.96565158 0.        ]\n",
      " [1.03595933 0.01506316 0.21777113 1.        ]\n",
      " [1.1375957  0.01873575 1.14505564 0.        ]\n",
      " [0.87518941 0.92186108 0.29360014 1.        ]\n",
      " [0.68326328 0.81619332 0.92383726 0.        ]]\n"
     ]
    }
   ],
   "source": [
    "print(\"size:\\n\", dataset.shape)\n",
    "print(\"dataset:\\n\", dataset[:16,:])"
   ]
  },
  {
   "cell_type": "code",
   "execution_count": 9,
   "id": "1d13cac1",
   "metadata": {},
   "outputs": [],
   "source": [
    "# input and output for classifier\n",
    "X = dataset[:,:-1]\n",
    "y = dataset[:,-1]"
   ]
  },
  {
   "cell_type": "code",
   "execution_count": 10,
   "id": "0bd5c171",
   "metadata": {},
   "outputs": [],
   "source": [
    "# initializing the MLPClassifier\n",
    "clf = MLPClassifier(solver='lbfgs', alpha=1e-5, hidden_layer_sizes=(5, 2), random_state=1)"
   ]
  },
  {
   "cell_type": "code",
   "execution_count": 11,
   "id": "8f6b1695",
   "metadata": {},
   "outputs": [
    {
     "data": {
      "text/plain": [
       "MLPClassifier(alpha=1e-05, hidden_layer_sizes=(5, 2), random_state=1,\n",
       "              solver='lbfgs')"
      ]
     },
     "execution_count": 11,
     "metadata": {},
     "output_type": "execute_result"
    }
   ],
   "source": [
    "# fitting data to the network\n",
    "clf.fit(X, y)"
   ]
  },
  {
   "cell_type": "code",
   "execution_count": 12,
   "id": "45a0cb03",
   "metadata": {},
   "outputs": [],
   "source": [
    "# generate 10 samples a,b,c for predict\n",
    "samples = np.concatenate((np.random.uniform(0.,0.4, 15),np.random.uniform(0.6,1.2, 15)))\n",
    "np.random.shuffle(samples)\n",
    "samples = samples.reshape((10,3))"
   ]
  },
  {
   "cell_type": "code",
   "execution_count": 13,
   "id": "3e54bab6",
   "metadata": {},
   "outputs": [
    {
     "name": "stdout",
     "output_type": "stream",
     "text": [
      "[[0.28233139 1.14800983 1.11130135]\n",
      " [0.00878544 0.35102151 0.03929389]\n",
      " [0.09754434 0.16822993 0.90286841]\n",
      " [1.0586404  0.69790208 0.23018372]\n",
      " [0.17642688 0.85779704 1.12224927]\n",
      " [0.0984656  0.69148157 0.86659084]\n",
      " [0.33335413 0.25938193 0.78333533]\n",
      " [0.1984824  0.034682   0.30782063]\n",
      " [0.69171065 0.02267086 0.84015946]\n",
      " [1.14675109 0.60689921 0.88041076]]\n"
     ]
    }
   ],
   "source": [
    "print(samples)"
   ]
  },
  {
   "cell_type": "code",
   "execution_count": 14,
   "id": "c44042a9",
   "metadata": {},
   "outputs": [
    {
     "data": {
      "text/plain": [
       "array([0., 1., 0., 1., 0., 0., 0., 1., 0., 0.])"
      ]
     },
     "execution_count": 14,
     "metadata": {},
     "output_type": "execute_result"
    }
   ],
   "source": [
    "clf.predict(samples)"
   ]
  }
 ],
 "metadata": {
  "kernelspec": {
   "display_name": "Python 3 (ipykernel)",
   "language": "python",
   "name": "python3"
  },
  "language_info": {
   "codemirror_mode": {
    "name": "ipython",
    "version": 3
   },
   "file_extension": ".py",
   "mimetype": "text/x-python",
   "name": "python",
   "nbconvert_exporter": "python",
   "pygments_lexer": "ipython3",
   "version": "3.9.12"
  }
 },
 "nbformat": 4,
 "nbformat_minor": 5
}
