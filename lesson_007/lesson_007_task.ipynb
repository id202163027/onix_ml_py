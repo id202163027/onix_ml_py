{
 "cells": [
  {
   "cell_type": "code",
   "execution_count": 1,
   "id": "92697e14",
   "metadata": {},
   "outputs": [],
   "source": [
    "import numpy as np"
   ]
  },
  {
   "cell_type": "code",
   "execution_count": 2,
   "id": "57a30276",
   "metadata": {},
   "outputs": [],
   "source": [
    "# Basic Unary ufuncs list excluding sqrt\n",
    "METHODS_LIST = ['abs','fabs','square','exp','log','log10','log2','log1p','sign','ceil','floor','rint','modf'\n",
    "             ,'isnan','isfinite','isinf','cos','cosh','sin','sinh','tan','tanh','arccos','arccosh','arcsin'\n",
    "             ,'arcsinh','arctan','arctanh','logical_not']"
   ]
  },
  {
   "cell_type": "code",
   "execution_count": 3,
   "id": "506309f1",
   "metadata": {},
   "outputs": [],
   "source": [
    "class Sliced_2D():\n",
    "    def __init__(self, input_array, index=None):\n",
    "        mask = np.zeros(input_array.shape)\n",
    "        if index is not None:\n",
    "            mask = mask + 1\n",
    "            mask[index[0]:index[1],index[2]:index[3]] = 0\n",
    "        self.arr = np.ma.masked_array(input_array, mask=mask)\n",
    "    \n",
    "    def sqrt(self):\n",
    "    # At locations -where the condition is True, the -out array will be set to the ufunc result.\n",
    "    # Where the condition is False, the -out array will be set to zero.\n",
    "        return np.sqrt(np.abs(self.arr).filled(0))\n",
    "    \n",
    "    # convert the original 2D array into a 3D one by copying\n",
    "    def repeat3d(self, repeats=2):\n",
    "        return np.repeat(self.arr[:, :, np.newaxis], repeats, axis=2)"
   ]
  },
  {
   "cell_type": "code",
   "execution_count": 4,
   "id": "4a67129b",
   "metadata": {},
   "outputs": [],
   "source": [
    "# Add ufunc methods to class Sliced_2D\n",
    "for i in METHODS_LIST:\n",
    "    # define function\n",
    "    exec(f\"def {i}(self):\\\n",
    "         return np.{i}(self.arr.filled(0))\")\n",
    "    \n",
    "    #  set attribute to class Sliced_2D\n",
    "    exec(f\"setattr(Sliced_2D, '{i}', {i})\")\n",
    "    \n",
    "    # delete function\n",
    "    exec(f\"del {i}\")"
   ]
  },
  {
   "cell_type": "code",
   "execution_count": 5,
   "id": "25ce4090",
   "metadata": {
    "scrolled": true
   },
   "outputs": [
    {
     "name": "stdout",
     "output_type": "stream",
     "text": [
      "[[  0   1   4   9  16]\n",
      " [ 25  36  49  64  81]\n",
      " [100 121 144 169 196]\n",
      " [225 256 289 324 361]\n",
      " [400 441 484 529 576]]\n"
     ]
    }
   ],
   "source": [
    "# example #1\n",
    "arr_1 = np.arange(25).reshape(5,5)**2\n",
    "print(arr_1)"
   ]
  },
  {
   "cell_type": "code",
   "execution_count": 6,
   "id": "99b83a1c",
   "metadata": {},
   "outputs": [],
   "source": [
    "# without slice\n",
    "obj_1 = Sliced_2D(arr_1)"
   ]
  },
  {
   "cell_type": "code",
   "execution_count": 7,
   "id": "98a00cb4",
   "metadata": {},
   "outputs": [
    {
     "name": "stdout",
     "output_type": "stream",
     "text": [
      "[[ 0.  1.  2.  3.  4.]\n",
      " [ 5.  6.  7.  8.  9.]\n",
      " [10. 11. 12. 13. 14.]\n",
      " [15. 16. 17. 18. 19.]\n",
      " [20. 21. 22. 23. 24.]]\n"
     ]
    }
   ],
   "source": [
    "print(obj_1.sqrt())"
   ]
  },
  {
   "cell_type": "code",
   "execution_count": 8,
   "id": "b7a3db1d",
   "metadata": {},
   "outputs": [],
   "source": [
    "# with slice start_0,stop_0,start_1,stop_1\n",
    "obj_2 = Sliced_2D(arr_1,[1,4,1,4])"
   ]
  },
  {
   "cell_type": "code",
   "execution_count": 9,
   "id": "5cd35894",
   "metadata": {},
   "outputs": [
    {
     "name": "stdout",
     "output_type": "stream",
     "text": [
      "[[ 0.  0.  0.  0.  0.]\n",
      " [ 0.  6.  7.  8.  0.]\n",
      " [ 0. 11. 12. 13.  0.]\n",
      " [ 0. 16. 17. 18.  0.]\n",
      " [ 0.  0.  0.  0.  0.]]\n"
     ]
    }
   ],
   "source": [
    "print(obj_2.sqrt())"
   ]
  },
  {
   "cell_type": "code",
   "execution_count": 10,
   "id": "67cff2b3",
   "metadata": {},
   "outputs": [
    {
     "name": "stdout",
     "output_type": "stream",
     "text": [
      "[[ 0.25739993 -0.90848143 -0.37850311 -0.5349156   0.85807335]\n",
      " [-0.41300998  0.49818858  2.01019925  1.26286154 -0.43921486]\n",
      " [-0.34643789  0.45531966 -1.66866271 -0.8620855   0.49291085]\n",
      " [-0.1243134   1.93513629 -0.61844265 -1.04683899 -0.88961759]\n",
      " [ 0.01404054 -0.16082969  2.23035965 -0.39911572  0.05444456]]\n"
     ]
    }
   ],
   "source": [
    "# example #2\n",
    "np.random.seed(43)\n",
    "arr_2 = np.random.randn(25).reshape(5,5)\n",
    "print(arr_2)"
   ]
  },
  {
   "cell_type": "code",
   "execution_count": 11,
   "id": "b025e33b",
   "metadata": {},
   "outputs": [],
   "source": [
    "obj_3 = Sliced_2D(arr_2,[2,4,0,3])"
   ]
  },
  {
   "cell_type": "code",
   "execution_count": 12,
   "id": "383d3672",
   "metadata": {},
   "outputs": [
    {
     "name": "stdout",
     "output_type": "stream",
     "text": [
      "[[0.         0.         0.         0.         0.        ]\n",
      " [0.         0.         0.         0.         0.        ]\n",
      " [0.34643789 0.45531966 1.66866271 0.         0.        ]\n",
      " [0.1243134  1.93513629 0.61844265 0.         0.        ]\n",
      " [0.         0.         0.         0.         0.        ]]\n"
     ]
    }
   ],
   "source": [
    "print(obj_3.fabs())"
   ]
  },
  {
   "cell_type": "code",
   "execution_count": 13,
   "id": "7c641286",
   "metadata": {},
   "outputs": [
    {
     "name": "stdout",
     "output_type": "stream",
     "text": [
      "[[ 0.  0.  0.  0.  0.]\n",
      " [ 0.  0.  0.  0.  0.]\n",
      " [-1.  0. -2.  0.  0.]\n",
      " [-1.  1. -1.  0.  0.]\n",
      " [ 0.  0.  0.  0.  0.]]\n"
     ]
    }
   ],
   "source": [
    "print(obj_3.floor())"
   ]
  },
  {
   "cell_type": "code",
   "execution_count": 14,
   "id": "5722c362",
   "metadata": {},
   "outputs": [
    {
     "name": "stdout",
     "output_type": "stream",
     "text": [
      "[[0 1 2]\n",
      " [3 4 5]\n",
      " [6 7 8]]\n"
     ]
    }
   ],
   "source": [
    "# example #3 for convert 2D into 3D\n",
    "arr_3 = np.arange(9).reshape(3,3)\n",
    "print(arr_3)"
   ]
  },
  {
   "cell_type": "code",
   "execution_count": 15,
   "id": "a71640dd",
   "metadata": {},
   "outputs": [],
   "source": [
    "obj = Sliced_2D(arr_3)"
   ]
  },
  {
   "cell_type": "code",
   "execution_count": 16,
   "id": "9cc25868",
   "metadata": {},
   "outputs": [],
   "source": [
    "d3d = obj.repeat3d(2)"
   ]
  },
  {
   "cell_type": "code",
   "execution_count": 17,
   "id": "51c8f534",
   "metadata": {},
   "outputs": [
    {
     "name": "stdout",
     "output_type": "stream",
     "text": [
      "[[0 1 2]\n",
      " [3 4 5]\n",
      " [6 7 8]]\n",
      "[[0 1 2]\n",
      " [3 4 5]\n",
      " [6 7 8]]\n"
     ]
    }
   ],
   "source": [
    "print(d3d[:,:,0])\n",
    "print(d3d[:,:,1])"
   ]
  }
 ],
 "metadata": {
  "kernelspec": {
   "display_name": "Python 3 (ipykernel)",
   "language": "python",
   "name": "python3"
  },
  "language_info": {
   "codemirror_mode": {
    "name": "ipython",
    "version": 3
   },
   "file_extension": ".py",
   "mimetype": "text/x-python",
   "name": "python",
   "nbconvert_exporter": "python",
   "pygments_lexer": "ipython3",
   "version": "3.9.9"
  }
 },
 "nbformat": 4,
 "nbformat_minor": 5
}
