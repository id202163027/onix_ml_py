{
 "cells": [
  {
   "cell_type": "code",
   "execution_count": 1,
   "id": "2cbeeb3d",
   "metadata": {},
   "outputs": [],
   "source": [
    "import os\n",
    "from sklearn.feature_extraction.text import CountVectorizer, TfidfTransformer\n",
    "import pandas as pd\n",
    "import json"
   ]
  },
  {
   "cell_type": "code",
   "execution_count": 2,
   "id": "8cbb8c10",
   "metadata": {},
   "outputs": [],
   "source": [
    "path = './docs'"
   ]
  },
  {
   "cell_type": "code",
   "execution_count": 3,
   "id": "06d9d2c2",
   "metadata": {},
   "outputs": [],
   "source": [
    "docs_dict = {}; docs = []\n",
    "for i,filename in enumerate(sorted(os.listdir(path))):\n",
    "    with open(path + '/' + filename) as file:\n",
    "        docs_dict['doc_' + str(i)] = filename\n",
    "        docs.append(file.read())"
   ]
  },
  {
   "cell_type": "code",
   "execution_count": 4,
   "id": "003bc9ba",
   "metadata": {},
   "outputs": [
    {
     "name": "stdout",
     "output_type": "stream",
     "text": [
      "{'doc_0': 'Douglas Adams - Hitchhikers Trilogy - Hitchhikers Guide to the Galaxy.txt', 'doc_1': 'Douglas Adams - Hitchhikers Trilogy - Mostly Harmless.txt', 'doc_2': 'Douglas Adams - Hitchhikers Trilogy - Restaurant End of the Universe.txt', 'doc_3': 'Douglas Adams - Hitchhikers Trilogy - So Long, and Thanks for All the Fish.txt', 'doc_4': 'Douglas Adams - The Long Dark Tea Time of the Soul.txt', 'doc_5': 'Edwin Arnold - Guliver of Mars.txt', 'doc_6': 'Jane Austen - Northanger Abbey.txt', 'doc_7': 'Jane Austen - Persuasion.txt', 'doc_8': 'Jane Austen - Pride and Prejudice.txt', 'doc_9': 'Poul Anderson - In Memoriam.txt'}\n"
     ]
    }
   ],
   "source": [
    "print(docs_dict)"
   ]
  },
  {
   "cell_type": "code",
   "execution_count": 5,
   "id": "0ee7ea28",
   "metadata": {},
   "outputs": [],
   "source": [
    "vectorizer = CountVectorizer()"
   ]
  },
  {
   "cell_type": "code",
   "execution_count": 6,
   "id": "ee2e2aac",
   "metadata": {},
   "outputs": [],
   "source": [
    "transformer = TfidfTransformer()"
   ]
  },
  {
   "cell_type": "code",
   "execution_count": 7,
   "id": "6139d284",
   "metadata": {},
   "outputs": [],
   "source": [
    "count = vectorizer.fit_transform(docs)"
   ]
  },
  {
   "cell_type": "code",
   "execution_count": 8,
   "id": "35c25897",
   "metadata": {},
   "outputs": [
    {
     "name": "stdout",
     "output_type": "stream",
     "text": [
      "(10, 23138)\n",
      "[[ 0  1  0  1  0  1  0  0  0  0  0  0  0  0  0  1  0  2  0  0]\n",
      " [ 0  2  1  0  0  1  0  0  0  0  0  0  0  0  0  1  0  1  0  0]\n",
      " [ 0  0  0  0  0  1  0  1  0  0  0  0  0  0  0  1  0  1  0  0]\n",
      " [ 0  0  0  0  0  2  1  0  0  0  0  0  0  0  0  2  0  1  1  1]\n",
      " [ 1  1  0  0  0  1  3  0  2  1  1 12  1 14  5  1  3  1  0  0]\n",
      " [ 0  0  0  0  0  0  0  0  0  0  0  0  0  0  0  0  0  0  0  0]\n",
      " [ 0  0  0  0  0  1  0  0  0  0  0  0  0  0  0  1  0  1  0  0]\n",
      " [ 0  0  0  0  0  1  0  0  0  0  0  0  0  0  0  1  0  1  0  0]\n",
      " [ 0  9  0  0  0  5  1  0  0  0  0  0  0  0  0  3  0  3  0  0]\n",
      " [ 0  4  0  0  1  3  2  0  0  0  0  0  0  0  0  1  0  0  0  0]]\n"
     ]
    }
   ],
   "source": [
    "# Display first 20 cols from count matrix\n",
    "print(count.toarray().shape)\n",
    "print(count.toarray()[:,:20])"
   ]
  },
  {
   "cell_type": "code",
   "execution_count": 9,
   "id": "f6a74b08",
   "metadata": {},
   "outputs": [],
   "source": [
    "# sorted vectorizer vocabulary\n",
    "vocabulary = dict(sorted(vectorizer.vocabulary_.items()))"
   ]
  },
  {
   "cell_type": "code",
   "execution_count": 10,
   "id": "a48aa92e",
   "metadata": {},
   "outputs": [
    {
     "name": "stdout",
     "output_type": "stream",
     "text": [
      "{'00': 0, '000': 1, '004': 2, '03758': 3, '040700': 4, '10': 5, '100': 6, '1001': 7, '1061': 8, '1076': 9, '1078': 10, '1080': 11, '1081': 12, '1082': 13, '1086': 14, '11': 15, '1105': 16, '12': 17, '121': 18, '123': 19, '124': 20, '126': 21, '127': 22, '13': 23, '132': 24, '14': 25, '15': 26, '15th': 27, '16': 28, '17': 29, '1760': 30, '1784': 31, '1785': 32, '1787': 33, '1789': 34, '1791': 35, '1797': 36, '18': 37, '1800': 38, '1803': 39, '1806': 40, '1810': 41, '1811': 42, '1812': 43, '1813': 44, '1814': 45, '1816': 46, '1818': 47, '1870': 48, '18th': 49}\n"
     ]
    }
   ],
   "source": [
    "# Display first 50 items from vocabulary\n",
    "print({k: vocabulary[k] for k in list(vocabulary)[:50]})"
   ]
  },
  {
   "cell_type": "code",
   "execution_count": 11,
   "id": "de9d7cad",
   "metadata": {},
   "outputs": [],
   "source": [
    "# store vocabulary in json file\n",
    "with open('vocabulary.json', 'w') as file:\n",
    "        json.dump(vocabulary, file, indent=4)"
   ]
  },
  {
   "cell_type": "code",
   "execution_count": 12,
   "id": "a5310f25",
   "metadata": {},
   "outputs": [],
   "source": [
    "tfidf_matrix = transformer.fit_transform(count)"
   ]
  },
  {
   "cell_type": "code",
   "execution_count": 13,
   "id": "ceff5e24",
   "metadata": {},
   "outputs": [
    {
     "name": "stdout",
     "output_type": "stream",
     "text": [
      "(10, 23138)\n",
      "[[0.         0.00038137 0.         0.00064223 0.         0.00026008]\n",
      " [0.         0.00053582 0.00045116 0.         0.         0.0001827 ]\n",
      " [0.         0.         0.         0.         0.         0.00021665]\n",
      " [0.         0.         0.         0.         0.         0.00053189]\n",
      " [0.00038013 0.00022573 0.         0.         0.         0.00015394]\n",
      " [0.         0.         0.         0.         0.         0.        ]\n",
      " [0.         0.         0.         0.         0.         0.0001583 ]\n",
      " [0.         0.         0.         0.         0.         0.000143  ]\n",
      " [0.         0.0013111  0.         0.         0.         0.00049673]\n",
      " [0.         0.01541767 0.         0.         0.00649088 0.0078856 ]]\n"
     ]
    }
   ],
   "source": [
    "# Display first 6 cols from tf-idf matrix\n",
    "print(tfidf_matrix.toarray().shape)\n",
    "print(tfidf_matrix.toarray()[:,:6])"
   ]
  },
  {
   "cell_type": "code",
   "execution_count": 14,
   "id": "ff374771",
   "metadata": {},
   "outputs": [],
   "source": [
    "# transform tf-idf matrix for df\n",
    "tfidf_npmatrix = tfidf_matrix.T.todense()"
   ]
  },
  {
   "cell_type": "code",
   "execution_count": 15,
   "id": "2ae8393a",
   "metadata": {},
   "outputs": [],
   "source": [
    "# feature_names for df as index\n",
    "feature_names = vectorizer.get_feature_names_out()"
   ]
  },
  {
   "cell_type": "code",
   "execution_count": 16,
   "id": "7cf3f5c1",
   "metadata": {},
   "outputs": [],
   "source": [
    "# docs names for df as cols\n",
    "docs_names = sorted(docs_dict.keys())"
   ]
  },
  {
   "cell_type": "code",
   "execution_count": 17,
   "id": "70b8af1c",
   "metadata": {},
   "outputs": [
    {
     "data": {
      "text/html": [
       "<div>\n",
       "<style scoped>\n",
       "    .dataframe tbody tr th:only-of-type {\n",
       "        vertical-align: middle;\n",
       "    }\n",
       "\n",
       "    .dataframe tbody tr th {\n",
       "        vertical-align: top;\n",
       "    }\n",
       "\n",
       "    .dataframe thead th {\n",
       "        text-align: right;\n",
       "    }\n",
       "</style>\n",
       "<table border=\"1\" class=\"dataframe\">\n",
       "  <thead>\n",
       "    <tr style=\"text-align: right;\">\n",
       "      <th></th>\n",
       "      <th>doc_0</th>\n",
       "      <th>doc_1</th>\n",
       "      <th>doc_2</th>\n",
       "      <th>doc_3</th>\n",
       "      <th>doc_4</th>\n",
       "      <th>doc_5</th>\n",
       "      <th>doc_6</th>\n",
       "      <th>doc_7</th>\n",
       "      <th>doc_8</th>\n",
       "      <th>doc_9</th>\n",
       "    </tr>\n",
       "  </thead>\n",
       "  <tbody>\n",
       "    <tr>\n",
       "      <th>00</th>\n",
       "      <td>0.000000</td>\n",
       "      <td>0.000000</td>\n",
       "      <td>0.000000</td>\n",
       "      <td>0.0</td>\n",
       "      <td>0.000380</td>\n",
       "      <td>0.0</td>\n",
       "      <td>0.0</td>\n",
       "      <td>0.0</td>\n",
       "      <td>0.000000</td>\n",
       "      <td>0.000000</td>\n",
       "    </tr>\n",
       "    <tr>\n",
       "      <th>000</th>\n",
       "      <td>0.000381</td>\n",
       "      <td>0.000536</td>\n",
       "      <td>0.000000</td>\n",
       "      <td>0.0</td>\n",
       "      <td>0.000226</td>\n",
       "      <td>0.0</td>\n",
       "      <td>0.0</td>\n",
       "      <td>0.0</td>\n",
       "      <td>0.001311</td>\n",
       "      <td>0.015418</td>\n",
       "    </tr>\n",
       "    <tr>\n",
       "      <th>004</th>\n",
       "      <td>0.000000</td>\n",
       "      <td>0.000451</td>\n",
       "      <td>0.000000</td>\n",
       "      <td>0.0</td>\n",
       "      <td>0.000000</td>\n",
       "      <td>0.0</td>\n",
       "      <td>0.0</td>\n",
       "      <td>0.0</td>\n",
       "      <td>0.000000</td>\n",
       "      <td>0.000000</td>\n",
       "    </tr>\n",
       "    <tr>\n",
       "      <th>03758</th>\n",
       "      <td>0.000642</td>\n",
       "      <td>0.000000</td>\n",
       "      <td>0.000000</td>\n",
       "      <td>0.0</td>\n",
       "      <td>0.000000</td>\n",
       "      <td>0.0</td>\n",
       "      <td>0.0</td>\n",
       "      <td>0.0</td>\n",
       "      <td>0.000000</td>\n",
       "      <td>0.000000</td>\n",
       "    </tr>\n",
       "    <tr>\n",
       "      <th>040700</th>\n",
       "      <td>0.000000</td>\n",
       "      <td>0.000000</td>\n",
       "      <td>0.000000</td>\n",
       "      <td>0.0</td>\n",
       "      <td>0.000000</td>\n",
       "      <td>0.0</td>\n",
       "      <td>0.0</td>\n",
       "      <td>0.0</td>\n",
       "      <td>0.000000</td>\n",
       "      <td>0.006491</td>\n",
       "    </tr>\n",
       "    <tr>\n",
       "      <th>...</th>\n",
       "      <td>...</td>\n",
       "      <td>...</td>\n",
       "      <td>...</td>\n",
       "      <td>...</td>\n",
       "      <td>...</td>\n",
       "      <td>...</td>\n",
       "      <td>...</td>\n",
       "      <td>...</td>\n",
       "      <td>...</td>\n",
       "      <td>...</td>\n",
       "    </tr>\n",
       "    <tr>\n",
       "      <th>zoom</th>\n",
       "      <td>0.000546</td>\n",
       "      <td>0.000384</td>\n",
       "      <td>0.000000</td>\n",
       "      <td>0.0</td>\n",
       "      <td>0.000000</td>\n",
       "      <td>0.0</td>\n",
       "      <td>0.0</td>\n",
       "      <td>0.0</td>\n",
       "      <td>0.000000</td>\n",
       "      <td>0.000000</td>\n",
       "    </tr>\n",
       "    <tr>\n",
       "      <th>zowee</th>\n",
       "      <td>0.000000</td>\n",
       "      <td>0.000000</td>\n",
       "      <td>0.000535</td>\n",
       "      <td>0.0</td>\n",
       "      <td>0.000000</td>\n",
       "      <td>0.0</td>\n",
       "      <td>0.0</td>\n",
       "      <td>0.0</td>\n",
       "      <td>0.000000</td>\n",
       "      <td>0.000000</td>\n",
       "    </tr>\n",
       "    <tr>\n",
       "      <th>zwingler</th>\n",
       "      <td>0.000000</td>\n",
       "      <td>0.000902</td>\n",
       "      <td>0.000000</td>\n",
       "      <td>0.0</td>\n",
       "      <td>0.000000</td>\n",
       "      <td>0.0</td>\n",
       "      <td>0.0</td>\n",
       "      <td>0.0</td>\n",
       "      <td>0.000000</td>\n",
       "      <td>0.000000</td>\n",
       "    </tr>\n",
       "    <tr>\n",
       "      <th>zz</th>\n",
       "      <td>0.001927</td>\n",
       "      <td>0.000000</td>\n",
       "      <td>0.000000</td>\n",
       "      <td>0.0</td>\n",
       "      <td>0.000000</td>\n",
       "      <td>0.0</td>\n",
       "      <td>0.0</td>\n",
       "      <td>0.0</td>\n",
       "      <td>0.000000</td>\n",
       "      <td>0.000000</td>\n",
       "    </tr>\n",
       "    <tr>\n",
       "      <th>zz9</th>\n",
       "      <td>0.000546</td>\n",
       "      <td>0.000384</td>\n",
       "      <td>0.000000</td>\n",
       "      <td>0.0</td>\n",
       "      <td>0.000000</td>\n",
       "      <td>0.0</td>\n",
       "      <td>0.0</td>\n",
       "      <td>0.0</td>\n",
       "      <td>0.000000</td>\n",
       "      <td>0.000000</td>\n",
       "    </tr>\n",
       "  </tbody>\n",
       "</table>\n",
       "<p>23138 rows × 10 columns</p>\n",
       "</div>"
      ],
      "text/plain": [
       "             doc_0     doc_1     doc_2  doc_3     doc_4  doc_5  doc_6  doc_7  \\\n",
       "00        0.000000  0.000000  0.000000    0.0  0.000380    0.0    0.0    0.0   \n",
       "000       0.000381  0.000536  0.000000    0.0  0.000226    0.0    0.0    0.0   \n",
       "004       0.000000  0.000451  0.000000    0.0  0.000000    0.0    0.0    0.0   \n",
       "03758     0.000642  0.000000  0.000000    0.0  0.000000    0.0    0.0    0.0   \n",
       "040700    0.000000  0.000000  0.000000    0.0  0.000000    0.0    0.0    0.0   \n",
       "...            ...       ...       ...    ...       ...    ...    ...    ...   \n",
       "zoom      0.000546  0.000384  0.000000    0.0  0.000000    0.0    0.0    0.0   \n",
       "zowee     0.000000  0.000000  0.000535    0.0  0.000000    0.0    0.0    0.0   \n",
       "zwingler  0.000000  0.000902  0.000000    0.0  0.000000    0.0    0.0    0.0   \n",
       "zz        0.001927  0.000000  0.000000    0.0  0.000000    0.0    0.0    0.0   \n",
       "zz9       0.000546  0.000384  0.000000    0.0  0.000000    0.0    0.0    0.0   \n",
       "\n",
       "             doc_8     doc_9  \n",
       "00        0.000000  0.000000  \n",
       "000       0.001311  0.015418  \n",
       "004       0.000000  0.000000  \n",
       "03758     0.000000  0.000000  \n",
       "040700    0.000000  0.006491  \n",
       "...            ...       ...  \n",
       "zoom      0.000000  0.000000  \n",
       "zowee     0.000000  0.000000  \n",
       "zwingler  0.000000  0.000000  \n",
       "zz        0.000000  0.000000  \n",
       "zz9       0.000000  0.000000  \n",
       "\n",
       "[23138 rows x 10 columns]"
      ]
     },
     "execution_count": 17,
     "metadata": {},
     "output_type": "execute_result"
    }
   ],
   "source": [
    "# tf-idf matrix as dataframe\n",
    "df = pd.DataFrame(tfidf_npmatrix, index = feature_names, columns = docs_names)\n",
    "df"
   ]
  }
 ],
 "metadata": {
  "kernelspec": {
   "display_name": "Python 3 (ipykernel)",
   "language": "python",
   "name": "python3"
  },
  "language_info": {
   "codemirror_mode": {
    "name": "ipython",
    "version": 3
   },
   "file_extension": ".py",
   "mimetype": "text/x-python",
   "name": "python",
   "nbconvert_exporter": "python",
   "pygments_lexer": "ipython3",
   "version": "3.9.9"
  }
 },
 "nbformat": 4,
 "nbformat_minor": 5
}
